{
 "cells": [
  {
   "cell_type": "markdown",
   "id": "c960df8a",
   "metadata": {
    "heading_collapsed": true,
    "id": "c960df8a"
   },
   "source": [
    "# <font color =   #0000cc> <i> Actividad 6 - Carlos Pulido Rosas"
   ]
  },
  {
   "cell_type": "markdown",
   "id": "96b66e3a",
   "metadata": {
    "hidden": true,
    "id": "96b66e3a"
   },
   "source": [
    "## <b> <i> <font color=  #FF6600 > Ejercicio 1\n",
    "\n",
    "Crea una lista de 10 elementos que contenga tanto valores numéricos como cadenas de caracteres.\n",
    "\n",
    "Recorre la lista multiplicando cada elemento por el número 2 y ve imprimiendo el resultado en la pantalla.\n",
    "\n",
    "En caso de que el elemento sea de tipo caracter, lanza una excepción TypeError e imprime \"El elemento no es de tipo numérico\" y que se detenga la ejecución del programa.\n"
   ]
  },
  {
   "cell_type": "code",
   "execution_count": null,
   "id": "aace4439",
   "metadata": {},
   "outputs": [
    {
     "name": "stdout",
     "output_type": "stream",
     "text": [
      "🔹 Lista generada: [1, 84, 80, 83, 66, 99, 'calidad', 'duda', 'realizar', 20]\n",
      "--------------------------------------------------\n",
      "✅ Elemento: 1 → Resultado: 2\n",
      "✅ Elemento: 84 → Resultado: 168\n",
      "✅ Elemento: 80 → Resultado: 160\n",
      "✅ Elemento: 83 → Resultado: 166\n",
      "✅ Elemento: 66 → Resultado: 132\n",
      "✅ Elemento: 99 → Resultado: 198\n",
      "❌ El elemento no es de tipo numérico\n"
     ]
    }
   ],
   "source": [
    "\n",
    "import random\n",
    "from faker import Faker\n",
    "\n",
    "def generar_lista_y_multiplicar():\n",
    "    fake = Faker('es_MX') \n",
    "\n",
    "    valores_numericos = [random.randint(1, 100) for _ in range(7)]  # 7 números aleatorios\n",
    "    valores_texto = [fake.word() for _ in range(3)]                 # 3 palabras aleatorias\n",
    "\n",
    "    elementos = valores_numericos + valores_texto\n",
    "    random.shuffle(elementos)\n",
    "\n",
    "    print(\"🔹 Lista generada:\", elementos)\n",
    "    print(\"-\" * 50)\n",
    "\n",
    "    for elemento in elementos:\n",
    "        try:\n",
    "            if isinstance(elemento, str):\n",
    "                raise TypeError(\"El elemento no es de tipo numérico\")\n",
    "            \n",
    "            resultado = elemento * 2\n",
    "            print(f\"Elemento: {elemento} → Resultado: {resultado}\")\n",
    "\n",
    "        except TypeError as e:\n",
    "            print(f\"❌ {e}\")\n",
    "            break  # Detiene la ejecución del programa\n",
    "\n",
    "# Ejecutar función\n",
    "generar_lista_y_multiplicar()\n",
    "\n"
   ]
  },
  {
   "cell_type": "markdown",
   "id": "7dd13415",
   "metadata": {
    "hidden": true,
    "id": "7dd13415"
   },
   "source": [
    "## <b> <i> <font color=  #FF6600 > Ejercicio 2\n",
    "\n",
    "Modifica el código del ejercicio 1 de manera que se muestre la excepción sin desplegar las lineas de código que contienen el error, y que además, imprima la leyenda \"Fin del proceso\"."
   ]
  },
  {
   "cell_type": "code",
   "execution_count": null,
   "id": "6a95e283",
   "metadata": {},
   "outputs": [
    {
     "name": "stdout",
     "output_type": "stream",
     "text": [
      "🔹 Lista generada: [28, 'semana', 95, 45, 3, 43, 'papel', 'otra', 3, 57]\n",
      "--------------------------------------------------\n",
      " Elemento: 28 → Resultado: 56\n",
      "❌ El elemento 'semana' no es de tipo numérico.\n",
      "\n",
      " Fin del proceso.\n"
     ]
    }
   ],
   "source": [
    "import random\n",
    "from faker import Faker\n",
    "\n",
    "def generar_lista_y_multiplicar():\n",
    "    fake = Faker('es_MX') \n",
    "\n",
    "    valores_numericos = [random.randint(1, 100) for _ in range(7)]  # 7 números aleatorios\n",
    "    valores_texto = [fake.word() for _ in range(3)]                 # 3 palabras aleatorias\n",
    "\n",
    "    elementos = valores_numericos + valores_texto\n",
    "    random.shuffle(elementos)\n",
    "\n",
    "    print(\"🔹 Lista generada:\", elementos)\n",
    "    print(\"-\" * 50)\n",
    "\n",
    "    try:\n",
    "        for elemento in elementos:\n",
    "            if isinstance(elemento, str):\n",
    "                raise TypeError(f\"El elemento '{elemento}' no es de tipo numérico.\")\n",
    "            \n",
    "            resultado = elemento * 2\n",
    "            print(f\" Elemento: {elemento} → Resultado: {resultado}\")\n",
    "\n",
    "    except TypeError as e:\n",
    "        print(f\"❌ {e}\")\n",
    "\n",
    "    finally:\n",
    "        print(\"\\n Fin del proceso.\")\n",
    "\n",
    "generar_lista_y_multiplicar()\n"
   ]
  },
  {
   "cell_type": "markdown",
   "id": "3e9a6754",
   "metadata": {
    "hidden": true,
    "id": "3e9a6754"
   },
   "source": [
    "## <b> <i> <font color=  #FF6600 > Ejercicio 3\n",
    "\n",
    "1.- Crea tres conjuntos disjuntos\n",
    "\n",
    "2.- Copia el primer conjunto en un conjunto nuevo llamado \"copia_del_primero\"\n",
    "\n",
    "3.- Une el primer conjunto con el segundo conjunto de manera que el primero contenga la totalidad de los elementos\n",
    "\n",
    "4.- Elimina uno de los elementos del segundo conjunto\n",
    "\n",
    "5.- Encuentra los elementos comunes entre el primer y el segundo conjunto\n",
    "\n",
    "6.- Elimina todos los elementos del tercer conjunto"
   ]
  },
  {
   "cell_type": "code",
   "execution_count": 23,
   "id": "ad4e259d",
   "metadata": {},
   "outputs": [
    {
     "name": "stdout",
     "output_type": "stream",
     "text": [
      "----------------------------------------------------------------------------------------------------\n",
      "Conjunto 1: {'gente', 'habla', 'a'}\n",
      "Conjunto 2: {'sean', 'nivel', 'tomar'}\n",
      "Conjunto 3: {'conciencia', 'minutos', 'somos'}\n",
      "----------------------------------------------------------------------------------------------------\n",
      "Copia del primer conjunto: {'gente', 'habla', 'a'}\n",
      "----------------------------------------------------------------------------------------------------\n",
      "Conjunto 1 después de unirse con conjunto 2: {'gente', 'nivel', 'habla', 'tomar', 'sean', 'a'}\n",
      "----------------------------------------------------------------------------------------------------\n",
      "Elemento eliminado del conjunto 2: sean\n",
      "Conjunto 2 ahora: {'nivel', 'tomar'}\n",
      "----------------------------------------------------------------------------------------------------\n",
      "Elementos comunes entre conjunto 1 y conjunto 2: {'nivel', 'tomar'}\n",
      "----------------------------------------------------------------------------------------------------\n",
      "Conjunto 3 después de eliminar todos sus elementos: set()\n",
      "----------------------------------------------------------------------------------------------------\n",
      "Fin del proceso.\n"
     ]
    }
   ],
   "source": [
    "from faker import Faker\n",
    "\n",
    "fake = Faker('es_MX')\n",
    "\n",
    "conjunto1 = {fake.word() for _ in range(3)}\n",
    "conjunto2 = {fake.word() for _ in range(3)}\n",
    "conjunto3 = {fake.word() for _ in range(3)}\n",
    "\n",
    "print(\"-\" * 100)\n",
    "print(\"Conjunto 1:\", conjunto1)\n",
    "print(\"Conjunto 2:\", conjunto2)\n",
    "print(\"Conjunto 3:\", conjunto3)\n",
    "print(\"-\" * 100)\n",
    "\n",
    "copia_del_primero = conjunto1.copy()\n",
    "print(\"Copia del primer conjunto:\", copia_del_primero)\n",
    "print(\"-\" * 100)\n",
    "\n",
    "conjunto1.update(conjunto2)\n",
    "print(\"Conjunto 1 después de unirse con conjunto 2:\", conjunto1)\n",
    "print(\"-\" * 100)\n",
    "\n",
    "if conjunto2:\n",
    "    elemento_eliminado = conjunto2.pop()  # Elimina un elemento aleatorio\n",
    "    print(f\"Elemento eliminado del conjunto 2: {elemento_eliminado}\")\n",
    "else:\n",
    "    print(\"Conjunto 2 está vacío, no se puede eliminar ningún elemento.\")\n",
    "print(\"Conjunto 2 ahora:\", conjunto2)\n",
    "print(\"-\" * 100)\n",
    "\n",
    "comunes = conjunto1.intersection(conjunto2)\n",
    "print(\"Elementos comunes entre conjunto 1 y conjunto 2:\", comunes)\n",
    "print(\"-\" * 100)\n",
    "\n",
    "conjunto3.clear()\n",
    "print(\"Conjunto 3 después de eliminar todos sus elementos:\", conjunto3)\n",
    "print(\"-\" * 100)\n",
    "\n",
    "print(\"Fin del proceso.\")\n"
   ]
  },
  {
   "cell_type": "markdown",
   "id": "9e4c58bf",
   "metadata": {
    "heading_collapsed": true,
    "hidden": true,
    "id": "9e4c58bf"
   },
   "source": [
    "## <font color= #0000FF> <i> Tarea"
   ]
  },
  {
   "cell_type": "markdown",
   "id": "0d1c4aff",
   "metadata": {
    "hidden": true,
    "id": "0d1c4aff"
   },
   "source": [
    "a) Crear una superclase de vehículos conteniendo propiedades comunes a los vehículos (Ejemplo: Marca, Modelo, Peso, etc)  <b> <font color= #0000FF> <i> 20 puntos.\n",
    "\n",
    "b) Tres subclases con tipos diferentes de vehiculos (Ejemplo: Barco, bicicleta y automovil) <b> <font color= #0000FF> <i> 20 puntos.\n",
    "\n",
    "c) Cada subclase contendrá un método llamado \"desplazamiento\" el cuál imprimirá en pantalla una leyenda explicando como se deplaza (Ejemplo: \"Yo me desplazo en el agua\", \"Yo me desplazo en dos llantas\") <b> <font color= #0000FF> <i> 20 puntos.\n",
    "\n",
    "d) Crear un objeto de cada tipo de vehículo <b> <font color= #0000FF> <i> 20 puntos.\n",
    "\n",
    "e) Imprimir en pantalla la leyenda que explica como es que se desplaza <b> <font color= #0000FF> <i> 20 puntos."
   ]
  },
  {
   "cell_type": "code",
   "execution_count": 35,
   "id": "d7069904",
   "metadata": {},
   "outputs": [
    {
     "name": "stdout",
     "output_type": "stream",
     "text": [
      "=== Información de Vehículos ===\n",
      "Marca: Toyota | Modelo: Corolla | Peso: 1300 kg\n",
      "Marca: Trek | Modelo: X-Caliber | Peso: 14 kg\n",
      "Marca: Yamaha | Modelo: WaveRunner | Peso: 350 kg\n",
      "\n",
      "=== Formas de desplazamiento ===\n",
      "🚗 Soy un automóvil Toyota y me desplazo sobre 4 llantas por carretera.\n",
      "🚴‍♂️ Soy una bicicleta de Montaña y me desplazo pedaleando sobre 2 llantas.\n",
      "🚤 Soy un barco con motor y me desplazo flotando en el agua.\n"
     ]
    }
   ],
   "source": [
    "from abc import ABC, abstractmethod\n",
    "from faker import Faker\n",
    "\n",
    "fake = Faker('es_MX')\n",
    "\n",
    "\n",
    "\n",
    "# --- Superclase Vehiculo ---\n",
    "class Vehiculo:\n",
    "    def __init__(self, marca, modelo, peso):\n",
    "        self.marca = marca\n",
    "        self.modelo = modelo\n",
    "        self.peso = peso\n",
    "\n",
    "    def mostrar_info(self):\n",
    "        print(f\"Marca: {self.marca} | Modelo: {self.modelo} | Peso: {self.peso} kg\")\n",
    "\n",
    "\n",
    "# --- Subclase Automovil ---\n",
    "class Automovil(Vehiculo):\n",
    "    def __init__(self, marca, modelo, peso, num_llantas=4):\n",
    "        super().__init__(marca, modelo, peso)\n",
    "        self.num_llantas = num_llantas\n",
    "\n",
    "    def desplazamiento(self):\n",
    "        print(f\"🚗 Soy un automóvil {self.marca} y me desplazo sobre {self.num_llantas} llantas por carretera.\")\n",
    "\n",
    "\n",
    "# --- Subclase Bicicleta ---\n",
    "class Bicicleta(Vehiculo):\n",
    "    def __init__(self, marca, modelo, peso, tipo=\"Montaña\"):\n",
    "        super().__init__(marca, modelo, peso)\n",
    "        self.tipo = tipo\n",
    "\n",
    "    def desplazamiento(self):\n",
    "        print(f\"🚴‍♂️ Soy una bicicleta de {self.tipo} y me desplazo pedaleando sobre 2 llantas.\")\n",
    "\n",
    "\n",
    "# --- Subclase Barco ---\n",
    "class Barco(Vehiculo):\n",
    "    def __init__(self, marca, modelo, peso, es_motor=True):\n",
    "        super().__init__(marca, modelo, peso)\n",
    "        self.es_motor = es_motor\n",
    "\n",
    "    def desplazamiento(self):\n",
    "        tipo = \"con motor\" if self.es_motor else \"a vela\"\n",
    "        print(f\"🚤 Soy un barco {tipo} y me desplazo flotando en el agua.\")\n",
    "\n",
    "\n",
    "# --- Crear objetos de cada tipo ---\n",
    "auto = Automovil(\"Toyota\", \"Corolla\", 1300)\n",
    "bici = Bicicleta(\"Trek\", \"X-Caliber\", 14)\n",
    "barco = Barco(\"Yamaha\", \"WaveRunner\", 350, es_motor=True)\n",
    "\n",
    "# --- Mostrar información general ---\n",
    "print(\"=== Información de Vehículos ===\")\n",
    "auto.mostrar_info()\n",
    "bici.mostrar_info()\n",
    "barco.mostrar_info()\n",
    "\n",
    "print(\"\\n=== Formas de desplazamiento ===\")\n",
    "auto.desplazamiento()\n",
    "bici.desplazamiento()\n",
    "barco.desplazamiento()\n"
   ]
  }
 ],
 "metadata": {
  "colab": {
   "provenance": []
  },
  "kernelspec": {
   "display_name": "MCD",
   "language": "python",
   "name": "python3"
  },
  "language_info": {
   "codemirror_mode": {
    "name": "ipython",
    "version": 3
   },
   "file_extension": ".py",
   "mimetype": "text/x-python",
   "name": "python",
   "nbconvert_exporter": "python",
   "pygments_lexer": "ipython3",
   "version": "3.13.5"
  }
 },
 "nbformat": 4,
 "nbformat_minor": 5
}
