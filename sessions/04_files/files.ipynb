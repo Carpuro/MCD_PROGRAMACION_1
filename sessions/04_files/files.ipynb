{
 "cells": [
  {
   "cell_type": "markdown",
   "id": "25ec2a3c",
   "metadata": {},
   "source": [
    "# <font color =   #0000cc> <i> Actividad 4 - Carlos Pulido Rosas"
   ]
  },
  {
   "cell_type": "markdown",
   "id": "2f737451",
   "metadata": {},
   "source": [
    "## ***Ejercicio 1***\n",
    "\n",
    "* Utiliza la lista \"numeros\" y obtén solamente aquellos cuyo valor sea mayor a 3 y menor a 10."
   ]
  },
  {
   "cell_type": "code",
   "execution_count": 14,
   "id": "144ee3d4",
   "metadata": {},
   "outputs": [
    {
     "name": "stdout",
     "output_type": "stream",
     "text": [
      "----------------------------------------------------------------------------------------------------\n",
      "Números mayores a 3 y menores a 10: [5, 8, 7, 9]\n",
      "----------------------------------------------------------------------------------------------------\n"
     ]
    }
   ],
   "source": [
    "numeros = [1, 5, 8, 12, 3, 7, 10, 15, 2, 9]\n",
    "resultado = [num for num in numeros if 3 < num < 10]\n",
    "print(\"-\" * 100)\n",
    "print(\"Números mayores a 3 y menores a 10:\", resultado)\n",
    "print(\"-\" * 100)\n"
   ]
  },
  {
   "cell_type": "markdown",
   "id": "03fa6ca3",
   "metadata": {},
   "source": [
    "## ***Ejercicio 2***\n",
    "\n",
    "- Crea una función map que eleve al cubo los elementos contenidos en la lista números y guárdala en un objeto cuyo nombre sea \"numeros_cubo\".\n",
    "- Fitra los números elevados al cubo de manera que te quedes solamente con aquellos que sean divisibles entre 3. Utiliza la función map para checar su divisibilidad."
   ]
  },
  {
   "cell_type": "code",
   "execution_count": 15,
   "id": "a99fc5f2",
   "metadata": {},
   "outputs": [
    {
     "name": "stdout",
     "output_type": "stream",
     "text": [
      "----------------------------------------------------------------------------------------------------\n",
      "Números elevados al cubo: [1, 125, 512, 1728, 27, 343, 1000, 3375, 8, 729]\n",
      "----------------------------------------------------------------------------------------------------\n",
      "Números elevados al cubo y divisibles entre 3: [1728, 27, 3375, 729]\n",
      "----------------------------------------------------------------------------------------------------\n"
     ]
    },
    {
     "data": {
      "text/plain": [
       "[1728, 27, 3375, 729]"
      ]
     },
     "execution_count": 15,
     "metadata": {},
     "output_type": "execute_result"
    }
   ],
   "source": [
    "\n",
    "\n",
    "def filtrar_cubos_divisibles(numeros):\n",
    "\n",
    "    # Elevar al cubo\n",
    "    numeros_cubo = list(map(lambda x: x**3, numeros))\n",
    "    print(\"-\" * 100)\n",
    "    print(\"Números elevados al cubo:\", numeros_cubo)\n",
    "    print(\"-\" * 100)\n",
    "    \n",
    "    # Filtrar los que son divisibles entre 3\n",
    "    numeros_divisibles_3 = list(filter(lambda x: x % 3 == 0, numeros_cubo))\n",
    "    print(\"Números elevados al cubo y divisibles entre 3:\", numeros_divisibles_3)\n",
    "    print(\"-\" * 100)\n",
    "    \n",
    "    \n",
    "    return numeros_divisibles_3\n",
    "\n",
    "\n",
    "# Llamar a la función\n",
    "filtrar_cubos_divisibles(numeros)\n"
   ]
  }
 ],
 "metadata": {
  "kernelspec": {
   "display_name": "MCD",
   "language": "python",
   "name": "python3"
  },
  "language_info": {
   "codemirror_mode": {
    "name": "ipython",
    "version": 3
   },
   "file_extension": ".py",
   "mimetype": "text/x-python",
   "name": "python",
   "nbconvert_exporter": "python",
   "pygments_lexer": "ipython3",
   "version": "3.13.5"
  }
 },
 "nbformat": 4,
 "nbformat_minor": 5
}
