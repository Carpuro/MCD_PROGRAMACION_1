{
 "cells": [
  {
   "cell_type": "markdown",
   "id": "25ec2a3c",
   "metadata": {},
   "source": [
    "# <font color =   #0000cc> <i> Actividad 4 - Carlos Pulido Rosas"
   ]
  },
  {
   "cell_type": "markdown",
   "id": "2f737451",
   "metadata": {},
   "source": [
    "## ***Ejercicio 1***\n",
    "\n",
    "* Utiliza la lista \"numeros\" y obtén solamente aquellos cuyo valor sea mayor a 3 y menor a 10."
   ]
  },
  {
   "cell_type": "code",
   "execution_count": 14,
   "id": "144ee3d4",
   "metadata": {},
   "outputs": [
    {
     "name": "stdout",
     "output_type": "stream",
     "text": [
      "----------------------------------------------------------------------------------------------------\n",
      "Números mayores a 3 y menores a 10: [5, 8, 7, 9]\n",
      "----------------------------------------------------------------------------------------------------\n"
     ]
    }
   ],
   "source": [
    "numeros = [1, 5, 8, 12, 3, 7, 10, 15, 2, 9]\n",
    "resultado = [num for num in numeros if 3 < num < 10]\n",
    "print(\"-\" * 100)\n",
    "print(\"Números mayores a 3 y menores a 10:\", resultado)\n",
    "print(\"-\" * 100)\n"
   ]
  },
  {
   "cell_type": "markdown",
   "id": "03fa6ca3",
   "metadata": {},
   "source": [
    "## ***Ejercicio 2***\n",
    "\n",
    "- Crea una función map que eleve al cubo los elementos contenidos en la lista números y guárdala en un objeto cuyo nombre sea \"numeros_cubo\".\n",
    "- Fitra los números elevados al cubo de manera que te quedes solamente con aquellos que sean divisibles entre 3. Utiliza la función map para checar su divisibilidad."
   ]
  },
  {
   "cell_type": "code",
   "execution_count": 15,
   "id": "a99fc5f2",
   "metadata": {},
   "outputs": [
    {
     "name": "stdout",
     "output_type": "stream",
     "text": [
      "----------------------------------------------------------------------------------------------------\n",
      "Números elevados al cubo: [1, 125, 512, 1728, 27, 343, 1000, 3375, 8, 729]\n",
      "----------------------------------------------------------------------------------------------------\n",
      "Números elevados al cubo y divisibles entre 3: [1728, 27, 3375, 729]\n",
      "----------------------------------------------------------------------------------------------------\n"
     ]
    },
    {
     "data": {
      "text/plain": [
       "[1728, 27, 3375, 729]"
      ]
     },
     "execution_count": 15,
     "metadata": {},
     "output_type": "execute_result"
    }
   ],
   "source": [
    "\n",
    "\n",
    "def filtrar_cubos_divisibles(numeros):\n",
    "\n",
    "    # Elevar al cubo\n",
    "    numeros_cubo = list(map(lambda x: x**3, numeros))\n",
    "    print(\"-\" * 100)\n",
    "    print(\"Números elevados al cubo:\", numeros_cubo)\n",
    "    print(\"-\" * 100)\n",
    "    \n",
    "    # Filtrar los que son divisibles entre 3\n",
    "    numeros_divisibles_3 = list(filter(lambda x: x % 3 == 0, numeros_cubo))\n",
    "    print(\"Números elevados al cubo y divisibles entre 3:\", numeros_divisibles_3)\n",
    "    print(\"-\" * 100)\n",
    "    \n",
    "    \n",
    "    return numeros_divisibles_3\n",
    "\n",
    "\n",
    "# Llamar a la función\n",
    "filtrar_cubos_divisibles(numeros)\n"
   ]
  },
  {
   "cell_type": "markdown",
   "id": "122e3baf",
   "metadata": {},
   "source": [
    "## ***Ejercicio 3***\n",
    "\n",
    "1. Crea un diccionario que contenga tres claves cuyo valor sea único, una clave cuyos valores se encuentren en una lista y una clave cuyos valores se encuentren en un diccionario **(30 puntos)**\n",
    "2. Muestra en pantalla los valores de la clave cuyos valores se encuentran en una lista **(10 puntos)**\n",
    "3. Muestra en pantalla el valor de la segunda clave del diccionario que se encuentra dentro del diccionario principal **(20 puntos)**\n",
    "4. Agrega una sexta clave con su valor al diccionario **(10 puntos)**\n",
    "5. Modifica el valor de la tercer clave **(10 puntos)**\n",
    "6. Elimina la clave número 2 **(10 puntos)**\n",
    "7. Borra toda la información contenida en el diccionario (No borres el diccionario) **(10 puntos)**"
   ]
  },
  {
   "cell_type": "code",
   "execution_count": 20,
   "id": "1f163111",
   "metadata": {},
   "outputs": [
    {
     "name": "stdout",
     "output_type": "stream",
     "text": [
      "----------------------------------------------------------------------------------------------------\n",
      "Valores de clave4: [37, 52, 17]\n",
      "----------------------------------------------------------------------------------------------------\n",
      "Valor de la segunda subclave en clave5: instituto\n",
      "----------------------------------------------------------------------------------------------------\n",
      "Después de agregar clave6: {'clave1': 'medida', 'clave2': 'estudio', 'clave3': 'dios', 'clave4': [37, 52, 17], 'clave5': {'subclave1': 'existe', 'subclave2': 'instituto', 'subclave3': 'cierta'}, 'clave6': 'nuevo_valor'}\n",
      "----------------------------------------------------------------------------------------------------\n",
      "Después de modificar clave3: {'clave1': 'medida', 'clave2': 'estudio', 'clave3': 'valor_modificado', 'clave4': [37, 52, 17], 'clave5': {'subclave1': 'existe', 'subclave2': 'instituto', 'subclave3': 'cierta'}, 'clave6': 'nuevo_valor'}\n",
      "----------------------------------------------------------------------------------------------------\n",
      "Después de eliminar clave2: {'clave1': 'medida', 'clave3': 'valor_modificado', 'clave4': [37, 52, 17], 'clave5': {'subclave1': 'existe', 'subclave2': 'instituto', 'subclave3': 'cierta'}, 'clave6': 'nuevo_valor'}\n",
      "----------------------------------------------------------------------------------------------------\n",
      "Después de borrar todo el contenido: {}\n",
      "----------------------------------------------------------------------------------------------------\n"
     ]
    }
   ],
   "source": [
    "# Diccionario con claves y valores variados\n",
    "\n",
    "# Crear el diccionario con Fake\n",
    "\n",
    "from faker import Faker\n",
    "fake = Faker('es_MX')\n",
    "\n",
    "\n",
    "mi_diccionario = {\n",
    "    \"clave1\": fake.unique.word(),  # Valor único\n",
    "    \"clave2\": fake.unique.word(),  # Valor único\n",
    "    \"clave3\": fake.unique.word(),  # Valor único\n",
    "    \"clave4\": [fake.random_int(min=1, max=100) for _ in range(3)],  # Lista de 3 números aleatorios\n",
    "    \"clave5\": {\n",
    "        \"subclave1\": fake.word(),\n",
    "        \"subclave2\": fake.word(),\n",
    "        \"subclave3\": fake.word()\n",
    "    }  # Diccionario anidado con 3 subclaves\n",
    "}\n",
    "print(\"-\" * 100)\n",
    "print(\"Valores de clave4:\", mi_diccionario[\"clave4\"])\n",
    "print(\"-\" * 100)\n",
    "print(\"Valor de la segunda subclave en clave5:\", mi_diccionario[\"clave5\"][\"subclave2\"])\n",
    "print(\"-\" * 100)\n",
    "mi_diccionario[\"clave6\"] = \"nuevo_valor\"\n",
    "print(\"Después de agregar clave6:\", mi_diccionario)\n",
    "print(\"-\" * 100)\n",
    "mi_diccionario[\"clave3\"] = \"valor_modificado\"\n",
    "print(\"Después de modificar clave3:\", mi_diccionario)\n",
    "print(\"-\" * 100)\n",
    "del mi_diccionario[\"clave2\"]\n",
    "print(\"Después de eliminar clave2:\", mi_diccionario)\n",
    "print(\"-\" * 100)\n",
    "mi_diccionario.clear()\n",
    "print(\"Después de borrar todo el contenido:\", mi_diccionario)\n",
    "print(\"-\" * 100)\n"
   ]
  }
 ],
 "metadata": {
  "kernelspec": {
   "display_name": "MCD",
   "language": "python",
   "name": "python3"
  },
  "language_info": {
   "codemirror_mode": {
    "name": "ipython",
    "version": 3
   },
   "file_extension": ".py",
   "mimetype": "text/x-python",
   "name": "python",
   "nbconvert_exporter": "python",
   "pygments_lexer": "ipython3",
   "version": "3.13.5"
  }
 },
 "nbformat": 4,
 "nbformat_minor": 5
}
