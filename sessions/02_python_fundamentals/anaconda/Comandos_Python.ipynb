{
 "cells": [
  {
   "cell_type": "markdown",
   "id": "cefa8a3a",
   "metadata": {},
   "source": [
    "Actividad 2 - Comandos de Python - Carlos Pulido Rosas"
   ]
  },
  {
   "cell_type": "code",
   "execution_count": 1,
   "id": "815bdaab",
   "metadata": {},
   "outputs": [
    {
     "name": "stdout",
     "output_type": "stream",
     "text": [
      "x = 5\n",
      "y = 3.2\n"
     ]
    }
   ],
   "source": [
    "# Variables y print\n",
    "x = 5\n",
    "y = 3.2\n",
    "print(\"x =\", x)\n",
    "print(\"y =\", y)"
   ]
  },
  {
   "cell_type": "code",
   "execution_count": 2,
   "id": "c93371ae",
   "metadata": {},
   "outputs": [
    {
     "name": "stdout",
     "output_type": "stream",
     "text": [
      "x es positivo\n"
     ]
    }
   ],
   "source": [
    "# Condicionales\n",
    "if x > 0:\n",
    "    print(\"x es positivo\")\n",
    "elif x < 0:\n",
    "    print(\"x es negativo\")\n",
    "else:\n",
    "    print(\"x es cero\")"
   ]
  },
  {
   "cell_type": "code",
   "execution_count": 3,
   "id": "cc8825b2",
   "metadata": {},
   "outputs": [
    {
     "name": "stdout",
     "output_type": "stream",
     "text": [
      "c = 1\n",
      "c = 2\n",
      "c = 3\n",
      "c = 4\n",
      "c = 5\n",
      "c = 6\n",
      "Fin del while\n"
     ]
    }
   ],
   "source": [
    "# Ciclo while\n",
    "c = 0\n",
    "while c <= 5:\n",
    "    c += 1\n",
    "    print(\"c =\", c)\n",
    "else:\n",
    "    print(\"Fin del while\")"
   ]
  },
  {
   "cell_type": "code",
   "execution_count": 4,
   "id": "22831183",
   "metadata": {},
   "outputs": [
    {
     "name": "stdout",
     "output_type": "stream",
     "text": [
      "break en c = 1\n",
      "break en c = 2\n"
     ]
    }
   ],
   "source": [
    "# While con break\n",
    "c = 0\n",
    "while c <= 5:\n",
    "    c += 1\n",
    "    if c == 3:\n",
    "        break\n",
    "    print(\"break en c =\", c)"
   ]
  },
  {
   "cell_type": "code",
   "execution_count": 5,
   "id": "e1e7937c",
   "metadata": {},
   "outputs": [
    {
     "name": "stdout",
     "output_type": "stream",
     "text": [
      "continue en c = 1\n",
      "continue en c = 2\n",
      "continue en c = 5\n",
      "continue en c = 6\n"
     ]
    }
   ],
   "source": [
    "# While con continue\n",
    "c = 0\n",
    "while c <= 5:\n",
    "    c += 1\n",
    "    if c == 3 or c == 4:\n",
    "        continue\n",
    "    print(\"continue en c =\", c)\n"
   ]
  },
  {
   "cell_type": "code",
   "execution_count": 6,
   "id": "26e2162c",
   "metadata": {},
   "outputs": [
    {
     "name": "stdout",
     "output_type": "stream",
     "text": [
      "n = 1\n",
      "n = 2\n",
      "n = 3\n",
      "n = 4\n",
      "n = 5\n"
     ]
    }
   ],
   "source": [
    "# Ciclo for\n",
    "nums = [1, 2, 3, 4, 5]\n",
    "for n in nums:\n",
    "    print(\"n =\", n)"
   ]
  },
  {
   "cell_type": "code",
   "execution_count": 7,
   "id": "9dc7fbb8",
   "metadata": {},
   "outputs": [
    {
     "name": "stdout",
     "output_type": "stream",
     "text": [
      "nums multiplicados: [10, 20, 30, 40, 50]\n"
     ]
    }
   ],
   "source": [
    "# For con enumerate\n",
    "for i, n in enumerate(nums):\n",
    "    nums[i] = n * 10\n",
    "print(\"nums multiplicados:\", nums)"
   ]
  },
  {
   "cell_type": "code",
   "execution_count": 8,
   "id": "e199dffd",
   "metadata": {},
   "outputs": [
    {
     "name": "stdout",
     "output_type": "stream",
     "text": [
      "i = 0\n",
      "i = 1\n",
      "i = 2\n",
      "i = 3\n",
      "i = 4\n"
     ]
    }
   ],
   "source": [
    "# For con range\n",
    "for i in range(5):\n",
    "    print(\"i =\", i)"
   ]
  },
  {
   "cell_type": "code",
   "execution_count": 1,
   "id": "0f678ed9",
   "metadata": {},
   "outputs": [
    {
     "name": "stdout",
     "output_type": "stream",
     "text": [
      "5 / 2 = 2.5\n",
      "5 // 2 = 2\n",
      "5 % 2 = 1\n",
      "3 ** 2 = 9\n"
     ]
    }
   ],
   "source": [
    "# Operaciones aritméticas\n",
    "print(\"5 / 2 =\", 5 / 2)\n",
    "print(\"5 // 2 =\", 5 // 2)\n",
    "print(\"5 % 2 =\", 5 % 2)\n",
    "print(\"3 ** 2 =\", 3 ** 2)"
   ]
  },
  {
   "cell_type": "code",
   "execution_count": 2,
   "id": "a8b772e1",
   "metadata": {},
   "outputs": [
    {
     "name": "stdout",
     "output_type": "stream",
     "text": [
      "c1 + c2 = (7+5j)\n",
      "c1 - c2 = (1+1j)\n",
      "c1 * c2 = (6+17j)\n",
      "c1 / c2 = (1.3846153846153848+0.07692307692307697j)\n"
     ]
    }
   ],
   "source": [
    "# Números complejos\n",
    "c1 = 4 + 3j\n",
    "c2 = 3 + 2j\n",
    "print(\"c1 + c2 =\", c1 + c2)\n",
    "print(\"c1 - c2 =\", c1 - c2)\n",
    "print(\"c1 * c2 =\", c1 * c2)\n",
    "print(\"c1 / c2 =\", c1 / c2)"
   ]
  },
  {
   "cell_type": "code",
   "execution_count": 3,
   "id": "deade9a3",
   "metadata": {},
   "outputs": [
    {
     "name": "stdout",
     "output_type": "stream",
     "text": [
      "Hola Mundo\n",
      "HolaHolaHola\n",
      "s1[1] = o\n",
      "s1[0:2] = Ho\n",
      "Reversa: aloH\n"
     ]
    }
   ],
   "source": [
    "# Strings\n",
    "s1 = \"Hola\"\n",
    "s2 = \"Mundo\"\n",
    "print(s1 + \" \" + s2)\n",
    "print(s1 * 3)\n",
    "print(\"s1[1] =\", s1[1])\n",
    "print(\"s1[0:2] =\", s1[0:2])\n",
    "print(\"Reversa:\", s1[::-1])"
   ]
  },
  {
   "cell_type": "code",
   "execution_count": 4,
   "id": "6526732b",
   "metadata": {},
   "outputs": [
    {
     "name": "stdout",
     "output_type": "stream",
     "text": [
      "Mi prima Maria tiene 35 años\n",
      "Mi prima Maria tiene 35 años\n"
     ]
    }
   ],
   "source": [
    "# Métodos de string\n",
    "nombre = \"Maria\"\n",
    "edad = 35\n",
    "print(\"Mi prima \" + nombre + \" tiene \" + str(edad) + \" años\")\n",
    "print(\"Mi prima {} tiene {} años\".format(nombre, edad))"
   ]
  },
  {
   "cell_type": "code",
   "execution_count": 5,
   "id": "34c5a5bb",
   "metadata": {},
   "outputs": [
    {
     "name": "stdout",
     "output_type": "stream",
     "text": [
      "Lista: [3, 5, 7, 'escritorio', 'borrador', 100]\n",
      "append: [3, 5, 7, 'escritorio', 'borrador', 100, 'Programación I']\n",
      "extend: [3, 5, 7, 'escritorio', 'borrador', 100, 'Programación I', 2000, 3000]\n",
      "remove: [3, 5, 7, 'escritorio', 100, 'Programación I', 2000, 3000]\n",
      "index de escritorio: 3\n",
      "count de 2000: 1\n",
      "reverse: [3000, 2000, 'Programación I', 100, 'escritorio', 7, 5, 3]\n"
     ]
    }
   ],
   "source": [
    "# Listas\n",
    "datos = [3, 5, 7, \"escritorio\", \"borrador\", 100]\n",
    "print(\"Lista:\", datos)\n",
    "\n",
    "datos.append(\"Programación I\")\n",
    "print(\"append:\", datos)\n",
    "\n",
    "datos.extend([2000, 3000])\n",
    "print(\"extend:\", datos)\n",
    "\n",
    "datos.remove(\"borrador\")\n",
    "print(\"remove:\", datos)\n",
    "\n",
    "print(\"index de escritorio:\", datos.index(\"escritorio\"))\n",
    "print(\"count de 2000:\", datos.count(2000))\n",
    "\n",
    "datos.reverse()\n",
    "print(\"reverse:\", datos)\n"
   ]
  },
  {
   "cell_type": "code",
   "execution_count": null,
   "id": "07f22542",
   "metadata": {},
   "outputs": [],
   "source": [
    "# Entrada por teclado\n",
    "cantidad = int(input(\"Cantidad de pesos a convertir a dólares: \"))\n",
    "dolares = round(cantidad / 20.0, 2)  # tipo de cambio de ejemplo\n",
    "print(cantidad, \"pesos equivalen a\", dolares, \"dólares\")"
   ]
  }
 ],
 "metadata": {
  "kernelspec": {
   "display_name": "MCD",
   "language": "python",
   "name": "python3"
  },
  "language_info": {
   "codemirror_mode": {
    "name": "ipython",
    "version": 3
   },
   "file_extension": ".py",
   "mimetype": "text/x-python",
   "name": "python",
   "nbconvert_exporter": "python",
   "pygments_lexer": "ipython3",
   "version": "3.13.5"
  }
 },
 "nbformat": 4,
 "nbformat_minor": 5
}
