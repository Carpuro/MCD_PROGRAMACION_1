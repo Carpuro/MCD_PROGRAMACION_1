{
 "cells": [
  {
   "cell_type": "markdown",
   "id": "c960df8a",
   "metadata": {
    "id": "c960df8a"
   },
   "source": [
    "# <font color =   #0000cc> <i> Actividad 5 - Carlos Pulido Rosas"
   ]
  },
  {
   "cell_type": "markdown",
   "id": "afe58956",
   "metadata": {},
   "source": [
    "## Ejercicios"
   ]
  },
  {
   "cell_type": "markdown",
   "id": "e28bcc6d",
   "metadata": {},
   "source": []
  }
 ],
 "metadata": {
  "colab": {
   "provenance": []
  },
  "kernelspec": {
   "display_name": "Python 3 (ipykernel)",
   "language": "python",
   "name": "python3"
  },
  "language_info": {
   "codemirror_mode": {
    "name": "ipython",
    "version": 3
   },
   "file_extension": ".py",
   "mimetype": "text/x-python",
   "name": "python",
   "nbconvert_exporter": "python",
   "pygments_lexer": "ipython3",
   "version": "3.9.12"
  }
 },
 "nbformat": 4,
 "nbformat_minor": 5
}
