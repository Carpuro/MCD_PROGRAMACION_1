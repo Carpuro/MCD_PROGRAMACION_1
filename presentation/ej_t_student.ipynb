{
 "cells": [
  {
   "cell_type": "markdown",
   "id": "a2a8091e",
   "metadata": {},
   "source": [
    "# Ejercicio de ejemplo distribución t student\n",
    "\n",
    "El Misterio de las Galletas\n",
    "\n",
    "Escenario: Una famosa marca de galletas, \"ChocoChispas,\" afirma que cada uno de sus paquetes contiene, en promedio, 40 chispas de chocolate. Sin embargo, un grupo de estudiantes de estadística sospecha que la cantidad real es menor. Para investigarlo, compran una muestra de 15 paquetes de galletas y cuentan meticulosamente las chispas en cada uno.\n",
    "\n",
    "El objetivo es utilizar una prueba t de Student para determinar si la evidencia de la muestra apoya la sospecha de los estudiantes de que el número promedio de chispas es, en realidad, inferior a 40.\n",
    "\n",
    "Hipótesis:\n",
    "\n",
    "Hipótesis Nula $H_0$: El promedio de chispas de chocolate por paquete es 40. ($\\mu$ = 40)\n",
    "Hipótesis Alternativa $H_1$: El promedio de chispas de chocolate por paquete es menor que 40. ($\\mu$ < 40)\n"
   ]
  },
  {
   "cell_type": "code",
   "execution_count": 1,
   "id": "0eda437c",
   "metadata": {},
   "outputs": [],
   "source": [
    "# Importar las bibliotecas\n",
    "import numpy as np\n",
    "from scipy import stats"
   ]
  },
  {
   "cell_type": "code",
   "execution_count": 2,
   "id": "82e7b79d",
   "metadata": {},
   "outputs": [
    {
     "name": "stdout",
     "output_type": "stream",
     "text": [
      "Datos de la muestra (chispas por paquete):\n",
      "[38 35 42 39 37 41 36 38 34 39 43 37 36 38 39]\n",
      "Número de paquetes en la muestra (n): 15\n"
     ]
    }
   ],
   "source": [
    "# Registrar datos\n",
    "\n",
    "# Datos de la muestra: chispas de chocolate contadas en 15 paquetes\n",
    "chispas_por_paquete = [38, 35, 42, 39, 37, 41, 36, 38, 34, 39, 43, 37, 36, 38, 39]\n",
    "\n",
    "# Convertir la lista a un array de Numpy\n",
    "muestra = np.array(chispas_por_paquete)\n",
    "\n",
    "# Imprimir datos para revisar\n",
    "print(\"Datos de la muestra (chispas por paquete):\")\n",
    "print(muestra)\n",
    "print(f\"Número de paquetes en la muestra (n): {len(muestra)}\")"
   ]
  },
  {
   "cell_type": "code",
   "execution_count": 3,
   "id": "6aab681f",
   "metadata": {},
   "outputs": [
    {
     "name": "stdout",
     "output_type": "stream",
     "text": [
      "Promedio de la muestra (x̄): 38.13\n",
      "Desviación Estándar de la muestra (s): 2.50\n"
     ]
    }
   ],
   "source": [
    "# Calcular el promedio (media) y la desviación estándar de la muestra\n",
    "media_muestral = np.mean(muestra)\n",
    "desviacion_estandar_muestral = np.std(muestra, ddof=1) # Usamos ddof=1 para la desviación estándar muestral\n",
    "\n",
    "print(f\"Promedio de la muestra (x̄): {media_muestral:.2f}\")\n",
    "print(f\"Desviación Estándar de la muestra (s): {desviacion_estandar_muestral:.2f}\")\n"
   ]
  },
  {
   "cell_type": "markdown",
   "id": "322b9ab3",
   "metadata": {},
   "source": [
    "## Realizar la Prueba t de Student\n",
    "\n",
    "Usando la función ttest_1samp de SciPy para comparar el promedio de la muestra con el promedio poblacional que estamos probando (el valor de la hipotesis nula $\\mu$ = 40 )"
   ]
  },
  {
   "cell_type": "code",
   "execution_count": 4,
   "id": "d9cc39c7",
   "metadata": {},
   "outputs": [
    {
     "name": "stdout",
     "output_type": "stream",
     "text": [
      "Estadístico t calculado: -2.8880\n",
      "Valor p (p-value): 0.0060\n"
     ]
    }
   ],
   "source": [
    "# Valor de la hipótesis nula (el promedio que afirma la empresa)\n",
    "mu_0 = 40\n",
    "\n",
    "# Nivel de significancia (alfa), comúnmente 0.05\n",
    "alfa = 0.05\n",
    "\n",
    "# Realizar la prueba t de Student para una muestra\n",
    "t_statistic, p_value = stats.ttest_1samp(\n",
    "    a=muestra,\n",
    "    popmean=mu_0,\n",
    "    alternative='less'  # Hipótesis alternativa: la media es MENOR que popmean\n",
    ")\n",
    "\n",
    "print(f\"Estadístico t calculado: {t_statistic:.4f}\")\n",
    "print(f\"Valor p (p-value): {p_value:.4f}\")"
   ]
  },
  {
   "cell_type": "markdown",
   "id": "ad370710",
   "metadata": {},
   "source": [
    "##  Interpretación de los Resultados y Conclusión\n",
    "\n",
    "El resultado de la prueba nos da dos valores importantes: el estadístico t y el valor p. La regla de decisión es:\n",
    "\n",
    "Si el valor p es menor o igual que nuestro nivel de significancia (α), rechazamos la hipótesis nula.\n",
    "\n",
    "Si el valor p es mayor que nuestro nivel de significancia (α), no tenemos evidencia suficiente para rechazar la hipótesis nula.\n",
    "\n"
   ]
  },
  {
   "cell_type": "code",
   "execution_count": 6,
   "id": "cf2b7058",
   "metadata": {},
   "outputs": [
    {
     "name": "stdout",
     "output_type": "stream",
     "text": [
      "Nivel de significancia (α): 0.05\n",
      "Valor p calculado: 0.0060\n",
      "\n",
      "Conclusión: ¡Rechazamos la Hipótesis Nula!\n",
      "La evidencia sugiere que el número promedio de chispas de chocolate por paquete es significativamente menor que 40.\n"
     ]
    }
   ],
   "source": [
    "# Comparar el valor p con el nivel de significancia (alfa)\n",
    "print(f\"Nivel de significancia (α): {alfa}\")\n",
    "print(f\"Valor p calculado: {p_value:.4f}\")\n",
    "\n",
    "if p_value <= alfa:\n",
    "    print(\"\\nConclusión: ¡Rechazamos la Hipótesis Nula!\")\n",
    "    print(\"La evidencia sugiere que el número promedio de chispas de chocolate por paquete es significativamente menor que 40.\")\n",
    "else:\n",
    "    print(\"\\nConclusión: No podemos rechazar la Hipótesis Nula.\")\n",
    "    print(\"No hay evidencia estadística suficiente para afirmar que el promedio de chispas sea menor que 40.\")"
   ]
  }
 ],
 "metadata": {
  "kernelspec": {
   "display_name": "metodos_estadisticos",
   "language": "python",
   "name": "python3"
  },
  "language_info": {
   "codemirror_mode": {
    "name": "ipython",
    "version": 3
   },
   "file_extension": ".py",
   "mimetype": "text/x-python",
   "name": "python",
   "nbconvert_exporter": "python",
   "pygments_lexer": "ipython3",
   "version": "3.9.23"
  }
 },
 "nbformat": 4,
 "nbformat_minor": 5
}
